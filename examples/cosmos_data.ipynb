{
 "cells": [
  {
   "cell_type": "markdown",
   "metadata": {},
   "source": [
    "From https://github.com/LSSTDESC/rail_lephare/blob/main/examples/cosmos_demo.ipynb"
   ]
  },
  {
   "cell_type": "code",
   "execution_count": 29,
   "metadata": {},
   "outputs": [],
   "source": [
    "from matplotlib import pyplot as plt\n",
    "from roman_photoz import RomanCatalogProcess\n",
    "from roman_photoz.default_config_file import default_roman_config"
   ]
  },
  {
   "cell_type": "code",
   "execution_count": 30,
   "metadata": {},
   "outputs": [
    {
     "data": {
      "text/plain": [
       "{'ADAPT_BAND': '5',\n",
       " 'ADAPT_CONTEXT': '-1',\n",
       " 'ADAPT_LIM': '1.5,23.0',\n",
       " 'ADAPT_MODBIN': '1,1000',\n",
       " 'ADAPT_ZBIN': '0.01,6',\n",
       " 'ADDITIONAL_MAG': 'none',\n",
       " 'ADD_DUSTEM': 'NO',\n",
       " 'ADD_EMLINES': '0,10000',\n",
       " 'AGE_RANGE': '0.,15.e9',\n",
       " 'AUTO_ADAPT': 'NO',\n",
       " 'CAT_FMT': 'MEME',\n",
       " 'CAT_IN': 'change_me_to_output_filename_required.ascii',\n",
       " 'CAT_LINES': '0,1000000000',\n",
       " 'CAT_MAG': 'AB',\n",
       " 'CAT_OUT': 'zphot.out',\n",
       " 'CAT_TYPE': 'LONG',\n",
       " 'CHI2_OUT': 'NO',\n",
       " 'COSMOLOGY': '70,0.3,0.7',\n",
       " 'DZ_WIN': '1.0',\n",
       " 'EBV_RANGE': '0,9',\n",
       " 'EB_V': '0.,0.05,0.1,0.15,0.2,0.25,0.3,0.35,0.4,0.5',\n",
       " 'EM_DISPERSION': '0.5,0.75,1.,1.5,2.',\n",
       " 'EM_LINES': 'EMP_UV',\n",
       " 'ERR_FACTOR': '1.5',\n",
       " 'ERR_SCALE': '0.02,0.02,0.02,0.02,0.02,0.02,0.02,0.05,0.05,0.05,0.05,0.02,0.02,0.02,0.02,0.02,0.02,0.02,0.02,0.02,0.02,0.02,0.02,0.05,0.05,0.05,0.05,0.1,0.2,0.3',\n",
       " 'EXTERNALZ_FILE': 'NONE',\n",
       " 'EXTINC_LAW': 'SMC_prevot.dat,SB_calzetti.dat,SB_calzetti_bump1.dat,SB_calzetti_bump2.dat',\n",
       " 'FILTER_CALIB': '0,0,0,0,0,0,0,0',\n",
       " 'FILTER_FILE': 'filter_roman',\n",
       " 'FILTER_LIST': 'roman/roman_F062.pb,roman/roman_F087.pb,roman/roman_F106.pb,roman/roman_F129.pb,roman/roman_F146.pb,roman/roman_F158.pb,roman/roman_F184.pb,roman/roman_F213.pb',\n",
       " 'FILTER_REP': '/Users/mteodoro/LEPHARE/filt',\n",
       " 'FIR_CONT': '-1',\n",
       " 'FIR_FREESCALE': 'YES',\n",
       " 'FIR_LIB': 'NONE',\n",
       " 'FIR_LMIN': '7.0',\n",
       " 'FIR_SCALE': '-1',\n",
       " 'FIR_SUBSTELLAR': 'NO',\n",
       " 'FORB_CONTEXT': '-1',\n",
       " 'GAL_FSCALE': '1.',\n",
       " 'GAL_LIB': 'LIB_CE',\n",
       " 'GAL_LIB_IN': 'LIB_CE',\n",
       " 'GAL_LIB_OUT': 'CE_COSMOS',\n",
       " 'GAL_SED': 'examples/COSMOS_MOD.list',\n",
       " 'GLB_CONTEXT': '0',\n",
       " 'INP_TYPE': 'F',\n",
       " 'LIB_ASCII': 'NO',\n",
       " 'LIMITS_MAPP_CUT': '90',\n",
       " 'LIMITS_MAPP_REF': '1',\n",
       " 'LIMITS_MAPP_SEL': '1',\n",
       " 'LIMITS_ZBIN': '0,99',\n",
       " 'MABS_CONTEXT': '33556478',\n",
       " 'MABS_FILT': '1,2,3,4',\n",
       " 'MABS_METHOD': '1',\n",
       " 'MABS_REF': '11',\n",
       " 'MABS_ZBIN': '0,0.5,2,4,6',\n",
       " 'MAGTYPE': 'AB',\n",
       " 'MAG_ABS': '-24,-5',\n",
       " 'MAG_ABS_QSO': '-30,-10',\n",
       " 'MAG_REF': '3',\n",
       " 'MIN_THRES': '0.02',\n",
       " 'MOD_EXTINC': '0,0',\n",
       " 'PARA_OUT': '/Users/mteodoro/LEPHARE/examples/output.para',\n",
       " 'PDZ_OUT': 'test',\n",
       " 'PDZ_TYPE': 'BAY_ZG',\n",
       " 'QSO_FSCALE': '1.',\n",
       " 'QSO_LIB': 'LIB_QSO',\n",
       " 'QSO_LIB_IN': 'LIB_QSO',\n",
       " 'QSO_LIB_OUT': 'QSO_COSMOS',\n",
       " 'QSO_SED': 'sed/QSO/SALVATO09/AGN_MOD.list',\n",
       " 'RF_COLORS': '32,4,4,13',\n",
       " 'RM_DISCREPANT_BD': '500',\n",
       " 'SPEC_OUT': 'NO',\n",
       " 'STAR_FSCALE': '3.432E-09',\n",
       " 'STAR_LIB': 'LIB_STAR',\n",
       " 'STAR_LIB_IN': 'LIB_STAR',\n",
       " 'STAR_LIB_OUT': 'STAR_COSMOS',\n",
       " 'STAR_SED': 'sed/STAR/STAR_MOD_ALL.list',\n",
       " 'TRANS_TYPE': '1',\n",
       " 'VERBOSE': 'NO',\n",
       " 'ZFIX': 'NO',\n",
       " 'ZGRID_TYPE': '0',\n",
       " 'ZPHOTLIB': 'CE_COSMOS,STAR_COSMOS,QSO_COSMOS',\n",
       " 'Z_INTERP': 'YES',\n",
       " 'Z_METHOD': 'BEST',\n",
       " 'Z_RANGE': '0.,99.99',\n",
       " 'Z_STEP': '0.01,0.,7.'}"
      ]
     },
     "execution_count": 30,
     "metadata": {},
     "output_type": "execute_result"
    }
   ],
   "source": [
    "config_file = default_roman_config\n",
    "config_file"
   ]
  },
  {
   "cell_type": "code",
   "execution_count": 5,
   "metadata": {},
   "outputs": [
    {
     "data": {
      "text/plain": [
       "{'ADAPT_BAND': '5',\n",
       " 'ADAPT_CONTEXT': '-1',\n",
       " 'ADAPT_LIM': '1.5,23.0',\n",
       " 'ADAPT_MODBIN': '1,1000',\n",
       " 'ADAPT_ZBIN': '0.01,6',\n",
       " 'ADDITIONAL_MAG': 'none',\n",
       " 'ADD_DUSTEM': 'NO',\n",
       " 'ADD_EMLINES': '0,10000',\n",
       " 'AGE_RANGE': '0.,15.e9',\n",
       " 'AUTO_ADAPT': 'NO',\n",
       " 'CAT_FMT': 'MEME',\n",
       " 'CAT_IN': 'change_me_to_output_filename_required.ascii',\n",
       " 'CAT_LINES': '0,1000000000',\n",
       " 'CAT_MAG': 'AB',\n",
       " 'CAT_OUT': 'zphot.out',\n",
       " 'CAT_TYPE': 'LONG',\n",
       " 'CHI2_OUT': 'NO',\n",
       " 'COSMOLOGY': '70,0.3,0.7',\n",
       " 'DZ_WIN': '1.0',\n",
       " 'EBV_RANGE': '0,9',\n",
       " 'EB_V': '0.,0.05,0.1,0.15,0.2,0.25,0.3,0.35,0.4,0.5',\n",
       " 'EM_DISPERSION': '0.5,0.75,1.,1.5,2.',\n",
       " 'EM_LINES': 'EMP_UV',\n",
       " 'ERR_FACTOR': '1.5',\n",
       " 'ERR_SCALE': '0.02,0.02,0.02,0.02,0.02,0.02,0.02,0.05,0.05,0.05,0.05,0.02,0.02,0.02,0.02,0.02,0.02,0.02,0.02,0.02,0.02,0.02,0.02,0.05,0.05,0.05,0.05,0.1,0.2,0.3',\n",
       " 'EXTERNALZ_FILE': 'NONE',\n",
       " 'EXTINC_LAW': 'SMC_prevot.dat,SB_calzetti.dat,SB_calzetti_bump1.dat,SB_calzetti_bump2.dat',\n",
       " 'FILTER_CALIB': '0,0,0,0,0,0,0,0,0,0,0,0,0,0,0,0,0,0,0,0,0,0,0,0,0,0,1,1,1,1',\n",
       " 'FILTER_FILE': 'filter_cosmos',\n",
       " 'FILTER_LIST': 'cosmos/u_cfht.lowres,cosmos/u_new.pb,hsc/gHSC.pb,hsc/rHSC.pb,hsc/iHSC.pb,hsc/zHSC.pb,hsc/yHSC.pb,vista/Y.lowres,vista/J.lowres,vista/H.lowres,vista/K.lowres,cosmos/IB427.lowres,cosmos/IB464.lowres,cosmos/IB484.lowres,cosmos/IB505.lowres,cosmos/IB527.lowres,cosmos/IB574.lowres,cosmos/IB624.lowres,cosmos/IB679.lowres,cosmos/IB709.lowres,cosmos/IB738.lowres,cosmos/IB767.lowres,cosmos/IB827.lowres,cosmos/NB711.lowres,cosmos/NB816.lowres,vista/NB118.lowres,cosmos/irac_ch1.lowres,cosmos/irac_ch2.lowres,cosmos/irac_ch3.lowres,cosmos/irac_ch4.lowres',\n",
       " 'FILTER_REP': '/Users/mteodoro/LEPHARE/filt',\n",
       " 'FIR_CONT': '-1',\n",
       " 'FIR_FREESCALE': 'YES',\n",
       " 'FIR_LIB': 'NONE',\n",
       " 'FIR_LMIN': '7.0',\n",
       " 'FIR_SCALE': '-1',\n",
       " 'FIR_SUBSTELLAR': 'NO',\n",
       " 'FORB_CONTEXT': '-1',\n",
       " 'GAL_FSCALE': '1.',\n",
       " 'GAL_LIB': 'LIB_CE',\n",
       " 'GAL_LIB_IN': 'LIB_CE',\n",
       " 'GAL_LIB_OUT': 'CE_COSMOS',\n",
       " 'GAL_SED': 'examples/COSMOS_MOD.list',\n",
       " 'GLB_CONTEXT': '0',\n",
       " 'INP_TYPE': 'F',\n",
       " 'LIB_ASCII': 'NO',\n",
       " 'LIMITS_MAPP_CUT': '90',\n",
       " 'LIMITS_MAPP_REF': '1',\n",
       " 'LIMITS_MAPP_SEL': '1',\n",
       " 'LIMITS_ZBIN': '0,99',\n",
       " 'MABS_CONTEXT': '33556478',\n",
       " 'MABS_FILT': '1,2,3,4',\n",
       " 'MABS_METHOD': '1',\n",
       " 'MABS_REF': '11',\n",
       " 'MABS_ZBIN': '0,0.5,2,4,6',\n",
       " 'MAGTYPE': 'AB',\n",
       " 'MAG_ABS': '-24,-5',\n",
       " 'MAG_ABS_QSO': '-30,-10',\n",
       " 'MAG_REF': '3',\n",
       " 'MIN_THRES': '0.02',\n",
       " 'MOD_EXTINC': '0,0',\n",
       " 'PARA_OUT': '/Users/mteodoro/LEPHARE/examples/output.para',\n",
       " 'PDZ_OUT': 'test',\n",
       " 'PDZ_TYPE': 'BAY_ZG',\n",
       " 'QSO_FSCALE': '1.',\n",
       " 'QSO_LIB': 'LIB_QSO',\n",
       " 'QSO_LIB_IN': 'LIB_QSO',\n",
       " 'QSO_LIB_OUT': 'QSO_COSMOS',\n",
       " 'QSO_SED': 'sed/QSO/SALVATO09/AGN_MOD.list',\n",
       " 'RF_COLORS': '32,4,4,13',\n",
       " 'RM_DISCREPANT_BD': '500',\n",
       " 'SPEC_OUT': 'NO',\n",
       " 'STAR_FSCALE': '3.432E-09',\n",
       " 'STAR_LIB': 'LIB_STAR',\n",
       " 'STAR_LIB_IN': 'LIB_STAR',\n",
       " 'STAR_LIB_OUT': 'STAR_COSMOS',\n",
       " 'STAR_SED': 'sed/STAR/STAR_MOD_ALL.list',\n",
       " 'TRANS_TYPE': '1',\n",
       " 'VERBOSE': 'NO',\n",
       " 'ZFIX': 'NO',\n",
       " 'ZGRID_TYPE': '0',\n",
       " 'ZPHOTLIB': 'CE_COSMOS,STAR_COSMOS,QSO_COSMOS',\n",
       " 'Z_INTERP': 'YES',\n",
       " 'Z_METHOD': 'BEST',\n",
       " 'Z_RANGE': '0.,99.99',\n",
       " 'Z_STEP': '0.01,0.,7.'}"
      ]
     },
     "execution_count": 5,
     "metadata": {},
     "output_type": "execute_result"
    }
   ],
   "source": [
    "import lephare as lp\n",
    "config_file = lp.default_cosmos_config\n",
    "config_file"
   ]
  },
  {
   "cell_type": "code",
   "execution_count": 6,
   "metadata": {},
   "outputs": [],
   "source": [
    "rcp = RomanCatalogProcess(config_filename=config_file)"
   ]
  },
  {
   "cell_type": "code",
   "execution_count": 7,
   "metadata": {},
   "outputs": [
    {
     "name": "stdout",
     "output_type": "stream",
     "text": [
      "Registry file downloaded and saved as data_registry.txt.\n",
      "Checking/downloading 445 files...\n",
      "445 completed.\n",
      "All files downloaded successfully and are non-empty.\n",
      "Checking/downloading 2 files...\n",
      "2 completed.\n",
      "All files downloaded successfully and are non-empty.\n",
      "30\n",
      "rail_lephare is setting the Z_STEP config to 0.01,0.0,3.0 based on the informer params.\n",
      "User defined LEPHAREDIR is set. Code runs depend on all required\n",
      "auxiliary data being present at /Users/mteodoro/LEPHARE.\n",
      "User defined LEPHAREWORK is set. All intermediate files will be written to:\n",
      " /Users/mteodoro/LEPHARE/inform_COSMOS\n",
      "Inserting handle into data store.  input: None, inform_COSMOS\n",
      "# NAME                        IDENT      Lbda_mean Lbeff(Vega)       FWHM     AB-cor    TG-cor      VEGA M_sun(AB)   CALIB      Lb_eff    Fac_corr\n",
      "u_cfht.lowres                 1             0.3844      0.3908      0.0538    0.3150   -0.3891  -20.6345    6.0327       0      0.3815      1.0000\n",
      "u_new.pb                      2             0.3690      0.3750      0.0456    0.6195   -0.2745  -20.8527    6.3135       0      0.3668      1.0000\n",
      "gHSC.pb                       3             0.4851      0.4760      0.1194   -0.0860   -0.2458  -20.7272    5.0764       0      0.4780      1.0000\n",
      "rHSC.pb                       4             0.6241      0.6142      0.1539    0.1466    0.2580  -21.5143    4.6523       0      0.6178      1.0000\n",
      "iHSC.pb                       5             0.7716      0.7637      0.1476    0.3942    0.6138  -22.2286    4.5323       0      0.7666      1.0000\n",
      "zHSC.pb                       6             0.8915      0.8907      0.0768    0.5169    0.7625  -22.6733    4.5147       0      0.8903      1.0000\n",
      "yHSC.pb                       7             0.9801      0.9771      0.0797    0.5534    0.7763  -22.9145    4.5081       0      0.9782      1.0000\n",
      "Y.lowres                      8             1.0222      1.0196      0.0919    0.6043    0.8180  -23.0574    4.5130       0      1.0206      1.0000\n",
      "J.lowres                      9             1.2555      1.2481      0.1712    0.9228  -99.0000  -23.8194    4.5638       0      1.2514      1.0000\n",
      "H.lowres                      10            1.6497      1.6352      0.2893    1.3701  -99.0000  -24.8565    4.7045       0      1.6409      1.0000\n",
      "K.lowres                      11            2.1577      2.1435      0.2926    1.8335  -99.0000  -25.9057    5.1316       0      2.1502      1.0000\n",
      "IB427.lowres                  12            0.4264      0.4256      0.0207   -0.1446   -0.4942  -20.4117    5.5152       0      0.4262      1.0000\n",
      "IB464.lowres                  13            0.4636      0.4633      0.0218   -0.1520   -0.3463  -20.5860    5.0658       0      0.4634      1.0000\n",
      "IB484.lowres                  14            0.4851      0.4846      0.0228   -0.0241   -0.1770  -20.8122    4.9880       0      0.4849      1.0000\n",
      "IB505.lowres                  15            0.5064      0.5061      0.0231   -0.0656   -0.1366  -20.8639    4.9423       0      0.5061      1.0000\n",
      "IB527.lowres                  16            0.5262      0.5259      0.0242   -0.0260   -0.0464  -20.9871    4.8937       0      0.5260      1.0000\n",
      "IB574.lowres                  17            0.5766      0.5762      0.0272    0.0657    0.1377  -21.2773    4.7042       0      0.5763      1.0000\n",
      "IB624.lowres                  18            0.6234      0.6230      0.0301    0.1527    0.2768  -21.5339    4.6386       0      0.6232      1.0000\n",
      "IB679.lowres                  19            0.6783      0.6779      0.0336    0.2542    0.4288  -21.8183    4.5709       0      0.6779      1.0000\n",
      "IB709.lowres                  20            0.7075      0.7071      0.0316    0.2982    0.4968  -21.9541    4.5558       0      0.7072      1.0000\n",
      "IB738.lowres                  21            0.7363      0.7358      0.0323    0.3460    0.5577  -22.0886    4.5449       0      0.7360      1.0000\n",
      "IB767.lowres                  22            0.7687      0.7681      0.0364    0.3992    0.6164  -22.2351    4.5243       0      0.7683      1.0000\n",
      "IB827.lowres                  23            0.8246      0.8241      0.0344    0.4891    0.7300  -22.4777    4.5161       0      0.8243      1.0000\n",
      "NB711.lowres                  24            0.7120      0.7119      0.0073    0.3072    0.5084  -21.9774    4.5542       0      0.7120      1.0000\n",
      "NB816.lowres                  25            0.8150      0.8149      0.0120    0.4713    0.7098  -22.4349    4.5154       0      0.8149      1.0000\n",
      "NB118.lowres                  26            1.1909      1.1909      0.0112    0.8376  -99.0000  -23.6250    4.5554       0      1.1909      1.0000\n",
      "irac_ch1.lowres               27            3.5763      3.5264      0.7411    2.7951  -99.0000  -27.9585    6.0679       1      3.5634      1.0036\n",
      "irac_ch2.lowres               28            4.5290      4.4609      1.0105    3.2634  -99.0000  -28.9384    6.5680       1      4.5111      1.0040\n",
      "irac_ch3.lowres               29            5.7873      5.6765      1.3509    3.7537  -99.0000  -29.9581    7.0472       1      5.7592      1.0050\n",
      "irac_ch4.lowres               30            8.0442      7.7033      2.8394    4.3959  -99.0000  -31.2962    7.6701       1      7.9590      1.0110\n",
      "{'star_sed': '/Users/mteodoro/LEPHARE/sed/STAR/STAR_MOD_ALL.list'}\n",
      "#######################################\n",
      "# It s translating SEDs to binary library #\n",
      "# with the following options :           \n",
      "# Config file     : \n",
      "# Library type     : STAR\n",
      "# STAR_SED    :/Users/mteodoro/LEPHARE/sed/STAR/STAR_MOD_ALL.list\n",
      "# STAR_LIB    :LIB_STAR\n",
      "# STAR_LIB doc:/Users/mteodoro/LEPHARE/inform_COSMOS/lib_bin/LIB_STAR.doc\n",
      "# STAR_FSCALE :0.0000\n",
      "#######################################\n",
      "Number of SED in the list 254\n",
      "WRONG NUMBER OF ARGUMENTS FOR OPTION MOD_EXTINC\n",
      "We have 2 instead of 8\n",
      "Use default value 0,0 for all filters \n",
      " All files opened \n",
      "#######################################\n",
      "# It s computing the SYNTHETIC MAGNITUDES #\n",
      "# For Gal/QSO libraries with these OPTIONS #\n",
      "# with the following options :           \n",
      "# Config file     : \n",
      "# Filter file     : filter_cosmos\n",
      "# Magnitude type     : AB\n",
      "# COSMOLOGY   :70.0000,0.3000,0.7000\n",
      "# STAR_LIB_IN    :/Users/mteodoro/LEPHARE/inform_COSMOS/lib_bin/LIB_STAR(.doc & .bin)\n",
      "# STAR_LIB_OUT   :/Users/mteodoro/LEPHARE/inform_COSMOS/lib_mag/STAR_COSMOS(.doc & .bin)\n",
      "# LIB_ASCII   YES\n",
      "# CREATION_DATE Thu Feb  6 15:15:54 2025\n",
      "#############################################\n",
      "{'gal_sed': '/Users/mteodoro/LEPHARE/examples/COSMOS_MOD.list'}\n",
      "#######################################\n",
      "# It s translating SEDs to binary library #\n",
      "# with the following options :           \n",
      "# Config file     : \n",
      "# Library type     : GAL\n",
      "# GAL_SED    :/Users/mteodoro/LEPHARE/examples/COSMOS_MOD.list\n",
      "# GAL_LIB    :LIB_CE\n",
      "# GAL_LIB doc:/Users/mteodoro/LEPHARE/inform_COSMOS/lib_bin/LIB_CE.doc\n",
      "# GAL_LIB phys:/Users/mteodoro/LEPHARE/inform_COSMOS/lib_bin/LIB_CE.phys\n",
      "# SEL_AGE    :none\n",
      "# GAL_FSCALE :1.0000\n",
      "# AGE_RANGE   0.0000 15000000000.0000\n",
      "#######################################\n",
      "Number of SED in the list 31\n",
      " All files opened \n",
      "#######################################\n",
      "# It s computing the SYNTHETIC MAGNITUDES #\n",
      "# For Gal/QSO libraries with these OPTIONS #\n",
      "# with the following options :           \n",
      "# Config file     : \n",
      "# Filter file     : filter_cosmos\n",
      "# Magnitude type     : AB\n",
      "# GAL_LIB_IN    :/Users/mteodoro/LEPHARE/inform_COSMOS/lib_bin/LIB_CE(.doc & .bin)\n",
      "# GAL_LIB_OUT   :/Users/mteodoro/LEPHARE/inform_COSMOS/lib_mag/CE_COSMOS(.doc & .bin)\n",
      "# ZGRID_TYPE   :0\n",
      "# Z_STEP   :0.0100 0.0000 3.0000\n",
      "# COSMOLOGY   :70.0000,0.3000,0.7000\n",
      "# EXTINC_LAW   :SMC_prevot.dat SB_calzetti.dat SB_calzetti_bump1.dat SB_calzetti_bump2.dat \n",
      "# MOD_EXTINC   :18 26 26 33 26 33 26 33 \n",
      "# EB_V   :0.0000 0.0500 0.1000 0.1500 0.2000 0.2500 0.3000 0.3500 0.4000 0.5000 \n",
      "# EM_LINES   EMP_UV\n",
      "# EM_DISPERSION   0.5000,0.7500,1.0000,1.5000,2.0000,\n",
      "# LIB_ASCII   YES\n",
      "# CREATION_DATE Thu Feb  6 15:15:56 2025\n",
      "#############################################\n",
      "{'qso_sed': '/Users/mteodoro/LEPHARE/sed/QSO/SALVATO09/AGN_MOD.list'}\n",
      "#######################################\n",
      "# It s translating SEDs to binary library #\n",
      "# with the following options :           \n",
      "# Config file     : \n",
      "# Library type     : QSO\n",
      "# QSO_SED    :/Users/mteodoro/LEPHARE/sed/QSO/SALVATO09/AGN_MOD.list\n",
      "# QSO_LIB    :LIB_QSO\n",
      "# QSO_LIB doc:/Users/mteodoro/LEPHARE/inform_COSMOS/lib_bin/LIB_QSO.doc\n",
      "# QSO_FSCALE :1.0000\n",
      "#######################################\n",
      "Number of SED in the list 30\n",
      " All files opened \n",
      "#######################################\n",
      "# It s computing the SYNTHETIC MAGNITUDES #\n",
      "# For Gal/QSO libraries with these OPTIONS #\n",
      "# with the following options :           \n",
      "# Config file     : \n",
      "# Filter file     : filter_cosmos\n",
      "# Magnitude type     : AB\n",
      "# QSO_LIB_IN    :/Users/mteodoro/LEPHARE/inform_COSMOS/lib_bin/LIB_QSO(.doc & .bin)\n",
      "# QSO_LIB_OUT   :/Users/mteodoro/LEPHARE/inform_COSMOS/lib_mag/QSO_COSMOS(.doc & .bin)\n",
      "# ZGRID_TYPE   :0\n",
      "# Z_STEP   :0.0100 0.0000 3.0000\n",
      "# COSMOLOGY   :70.0000,0.3000,0.7000\n",
      "# EXTINC_LAW   :SB_calzetti.dat \n",
      "# MOD_EXTINC   :0 1000 \n",
      "# EB_V   :0.0000 0.1000 0.2000 0.3000 # LIB_ASCII   YES\n",
      "# CREATION_DATE Thu Feb  6 15:24:34 2025\n",
      "#############################################\n",
      "Inserting handle into data store.  model_inform_COSMOS: inprogress_lephare.pkl, inform_COSMOS\n",
      "User defined LEPHAREDIR is set. Code runs depend on all required\n",
      "auxiliary data being present at /Users/mteodoro/LEPHARE.\n",
      "User defined LEPHAREWORK is set. All intermediate files will be written to:\n",
      " /Users/mteodoro/LEPHARE/inform_COSMOS\n",
      "Inserting handle into data store.  test_data: None, test_Lephare_COSMOS\n",
      "Process 0 running estimator on chunk 0 - 100\n",
      "Using user columns from input table assuming they are in the standard order.\n",
      "Processing 100 objects with 30 bands\n",
      "####################################### \n",
      "# PHOTOMETRIC REDSHIFT with OPTIONS   # \n",
      "# Config file            : \n",
      "# CAT_IN                 : change_me_to_output_filename_required.ascii\n",
      "# CAT_OUT                : zphot.out\n",
      "# CAT_LINES              : 0 1000000000\n",
      "# PARA_OUT               : /Users/mteodoro/LEPHARE/examples/output.para\n",
      "# INP_TYPE               : F\n",
      "# CAT_FMT[0:MEME 1:MMEE] : 0\n",
      "# CAT_MAG                : AB\n",
      "# ZPHOTLIB               : CE_COSMOS STAR_COSMOS QSO_COSMOS \n",
      "# FIR_LIB                : \n",
      "# FIR_LMIN               : 7.000000\n",
      "# FIR_CONT               : -1.000000\n",
      "# FIR_SCALE              : -1.000000\n",
      "# FIR_FREESCALE          : YES\n",
      "# FIR_SUBSTELLAR         : NO\n",
      "# ERR_SCALE              : 0.020000 0.020000 0.020000 0.020000 0.020000 0.020000 0.020000 0.050000 0.050000 0.050000 0.050000 0.020000 0.020000 0.020000 0.020000 0.020000 0.020000 0.020000 0.020000 0.020000 0.020000 0.020000 0.020000 0.050000 0.050000 0.050000 0.050000 0.100000 0.200000 0.300000 \n",
      "# ERR_FACTOR             : 1.500000 \n",
      "# GLB_CONTEXT            : 0\n",
      "# FORB_CONTEXT           : -1\n",
      "# DZ_WIN                 : 1.000000\n",
      "# MIN_THRES              : 0.020000\n",
      "# MAG_ABS                : -24.000000 -5.000000\n",
      "# MAG_ABS_AGN            : -30.000000 -10.000000\n",
      "# MAG_REF                : 2\n",
      "# NZ_PRIOR               : -2 -2\n",
      "# Z_INTERP               : YES\n",
      "# Z_METHOD               : BEST\n",
      "# PROB_INTZ              : 0.000000 \n",
      "# MABS_METHOD            : 1\n",
      "# MABS_CONTEXT           : 33556478 \n",
      "# MABS_REF               : 10 \n",
      "# AUTO_ADAPT             : NO\n",
      "# ADAPT_BAND             : 4\n",
      "# ADAPT_LIM              : 1.500000 23.000000\n",
      "# ADAPT_ZBIN             : 0.010000 6.000000\n",
      "# ZFIX                   : NO\n",
      "# SPEC_OUT               : NO\n",
      "# CHI_OUT                : NO\n",
      "# PDZ_OUT                : test\n",
      "####################################### \n",
      "Reading input librairies ...\n",
      "Read lib \n",
      "Number of keywords to be read in the doc: 14\n",
      "Number of keywords read at the command line (excluding -c config): 0\n",
      "Reading keywords from /Users/mteodoro/LEPHARE/inform_COSMOS/lib_mag/QSO_COSMOS.doc\n",
      "Number of keywords read in the config file: 17\n",
      "Keyword NUMBER_ROWS not provided \n",
      "Keyword NUMBER_SED not provided \n",
      "Keyword Z_FORM not provided \n",
      "Reading library: /Users/mteodoro/LEPHARE/inform_COSMOS/lib_mag/QSO_COSMOS.bin\n",
      " Done with the library reading with 36120 SED read. \n",
      "Number of keywords to be read in the doc: 14\n",
      "Number of keywords read at the command line (excluding -c config): 0\n",
      "Reading keywords from /Users/mteodoro/LEPHARE/inform_COSMOS/lib_mag/STAR_COSMOS.doc\n",
      "Number of keywords read in the config file: 17\n",
      "Keyword NUMBER_ROWS not provided \n",
      "Keyword NUMBER_SED not provided \n",
      "Keyword Z_FORM not provided \n",
      "Reading library: /Users/mteodoro/LEPHARE/inform_COSMOS/lib_mag/STAR_COSMOS.bin\n",
      " Done with the library reading with 36374 SED read. \n",
      "Number of keywords to be read in the doc: 14\n",
      "Number of keywords read at the command line (excluding -c config): 0\n",
      "Reading keywords from /Users/mteodoro/LEPHARE/inform_COSMOS/lib_mag/CE_COSMOS.doc\n",
      "Number oAUTO_ADAPT set to NO and no user supplied offsets. Using zero offsets.\n",
      "f keywords read in the config file: 17\n",
      "Keyword NUMBER_ROWS not provided \n",
      "Keyword NUMBER_SED not provided \n",
      "Keyword Z_FORM not provided \n",
      "Reading library: /Users/mteodoro/LEPHARE/inform_COSMOS/lib_mag/CE_COSMOS.bin\n",
      " Done with the library reading with 448744 SED read. \n",
      "Read lib out \n",
      "Read filt \n",
      "# NAME                        IDENT      Lbda_mean Lbeff(Vega)       FWHM     AB-cor      VEGA   CALIB    Fac_corr\n",
      "u_cfht.lowres                 1             0.3844      0.3908      0.0538    0.3150  -20.6300       0      1.0000\n",
      "u_new.pb                      2             0.3690      0.3750      0.0456    0.6195  -20.8500       0      1.0000\n",
      "gHSC.pb                       3             0.4851      0.4760      0.1194   -0.0860  -20.7300       0      1.0000\n",
      "rHSC.pb                       4             0.6241      0.6142      0.1539    0.1466  -21.5100       0      1.0000\n",
      "iHSC.pb                       5             0.7716      0.7637      0.1476    0.3942  -22.2300       0      1.0000\n",
      "zHSC.pb                       6             0.8915      0.8907      0.0768    0.5169  -22.6700       0      1.0000\n",
      "yHSC.pb                       7             0.9801      0.9771      0.0797    0.5534  -22.9100       0      1.0000\n",
      "Y.lowres                      8             1.0220      1.0200      0.0919    0.6043  -23.0600       0      1.0000\n",
      "J.lowres                      9             1.2550      1.2480      0.1712    0.9228  -23.8200       0      1.0000\n",
      "H.lowres                      10            1.6500      1.6350      0.2893    1.3700  -24.8600       0      1.0000\n",
      "K.lowres                      11            2.1580      2.1430      0.2926    1.8330  -25.9100       0      1.0000\n",
      "IB427.lowres                  12            0.4264      0.4256      0.0207   -0.1446  -20.4100       0      1.0000\n",
      "IB464.lowres                  13            0.4636      0.4633      0.0218   -0.1520  -20.5900       0      1.0000\n",
      "IB484.lowres                  14            0.4851      0.4846      0.0228   -0.0241  -20.8100       0      1.0000\n",
      "IB505.lowres                  15            0.5064      0.5061      0.0231   -0.0656  -20.8600       0      1.0000\n",
      "IB527.lowres                  16            0.5262      0.5259      0.0242   -0.0260  -20.9900       0      1.0000\n",
      "IB574.lowres                  17            0.5766      0.5762      0.0272    0.0657  -21.2800       0      1.0000\n",
      "IB624.lowres                  18            0.6234      0.6230      0.0301    0.1527  -21.5300       0      1.0000\n",
      "IB679.lowres                  19            0.6783      0.6779      0.0336    0.2542  -21.8200       0      1.0000\n",
      "IB709.lowres                  20            0.7075      0.7071      0.0316    0.2982  -21.9500       0      1.0000\n",
      "IB738.lowres                  21            0.7363      0.7358      0.0323    0.3460  -22.0900       0      1.0000\n",
      "IB767.lowres                  22            0.7687      0.7681      0.0364    0.3992  -22.2400       0      1.0000\n",
      "IB827.lowres                  23            0.8246      0.8241      0.0344    0.4891  -22.4800       0      1.0000\n",
      "NB711.lowres                  24            0.7120      0.7119      0.0073    0.3072  -21.9800       0      1.0000\n",
      "NB816.lowres                  25            0.8150      0.8149      0.0120    0.4713  -22.4300       0      1.0000\n",
      "NB118.lowres                  26            1.1910      1.1910      0.0112    0.8376  -23.6200       0      1.0000\n",
      "irac_ch1.lowres               27            3.5760      3.5260      0.7411    2.7950  -27.9600       1      1.0040\n",
      "irac_ch2.lowres               28            4.5290      4.4610      1.0100    3.2630  -28.9400       1      1.0040\n",
      "irac_ch3.lowres               29            5.7870      5.6760      1.3510    3.7540  -29.9600       1      1.0050\n",
      "irac_ch4.lowres               30            8.0440      7.7030      2.8390    4.3960  -31.3000       1      1.0110\n",
      "Inserting handle into data store.  output_test_Lephare_COSMOS: inprogress_output_test_Lephare_COSMOS.hdf5, test_Lephare_COSMOS\n"
     ]
    }
   ],
   "source": [
    "rcp.process()"
   ]
  },
  {
   "cell_type": "code",
   "execution_count": 9,
   "metadata": {},
   "outputs": [
    {
     "data": {
      "text/plain": [
       "{'zmode': 1.62,\n",
       " 'zmean': 1.633647020586028,\n",
       " 'Z_BEST': 1.6128956543442583,\n",
       " 'CHI_BEST': 22.421965512105338,\n",
       " 'ZQ_BEST': 1.532422119217432,\n",
       " 'CHI_QSO': 26.650355908067006,\n",
       " 'MOD_STAR': 127,\n",
       " 'CHI_STAR': 507.3813584848924}"
      ]
     },
     "execution_count": 9,
     "metadata": {},
     "output_type": "execute_result"
    }
   ],
   "source": [
    "rcp.estimated.data[13].ancil"
   ]
  },
  {
   "cell_type": "code",
   "execution_count": 10,
   "metadata": {},
   "outputs": [],
   "source": [
    "import numpy as np"
   ]
  },
  {
   "cell_type": "code",
   "execution_count": 9,
   "metadata": {},
   "outputs": [
    {
     "data": {
      "image/png": "[encoded data removed]",
      "text/plain": [
       "<Figure size 640x480 with 1 Axes>"
      ]
     },
     "metadata": {},
     "output_type": "display_data"
    }
   ],
   "source": [
    "indx = 13\n",
    "zmin = rcp.estimated.data[indx].ancil[\"zmean\"] * 0.25\n",
    "zmax = rcp.estimated.data[indx].ancil[\"zmean\"] * 1.75\n",
    "zgrid = np.linspace(zmin, zmax, 1000)\n",
    "plt.plot(\n",
    "    zgrid, np.squeeze(rcp.estimated.data[indx].pdf(zgrid)), label=\"Estimated PDF\"\n",
    ")\n",
    "plt.axvline(x=rcp.data[\"redshift\"][indx], color=\"r\", label=\"True redshift\")\n",
    "plt.legend()\n",
    "plt.xlabel(\"z\")\n",
    "plt.show()"
   ]
  },
  {
   "cell_type": "code",
   "execution_count": 10,
   "metadata": {},
   "outputs": [
    {
     "data": {
      "image/png": "[encoded data removed]",
      "text/plain": [
       "<Figure size 640x480 with 1 Axes>"
      ]
     },
     "metadata": {},
     "output_type": "display_data"
    }
   ],
   "source": [
    "estimate_diff_from_truth = np.abs(\n",
    "    rcp.estimated.data.ancil[\"zmode\"] - rcp.data[\"redshift\"]\n",
    ")\n",
    "\n",
    "plt.figure()\n",
    "plt.hist(estimate_diff_from_truth, 100)\n",
    "plt.xlabel(\"abs(z_estimated - z_true)\")\n",
    "plt.show()"
   ]
  },
  {
   "cell_type": "code",
   "execution_count": 11,
   "metadata": {},
   "outputs": [
    {
     "data": {
      "text/plain": [
       "Text(0, 0.5, '$z_{LePHARE}$')"
      ]
     },
     "execution_count": 11,
     "metadata": {},
     "output_type": "execute_result"
    },
    {
     "data": {
      "image/png": "[encoded data removed]",
      "text/plain": [
       "<Figure size 640x480 with 1 Axes>"
      ]
     },
     "metadata": {},
     "output_type": "display_data"
    }
   ],
   "source": [
    "plt.scatter(rcp.data[\"redshift\"], rcp.estimated.data.ancil[\"Z_BEST\"])\n",
    "plt.xlabel(\"$z_{spec}$\")\n",
    "plt.ylabel(\"$z_{LePHARE}$\")"
   ]
  },
  {
   "cell_type": "code",
   "execution_count": 12,
   "metadata": {},
   "outputs": [
    {
     "data": {
      "text/plain": [
       "Text(0, 0.5, '$z_{LePHARE}$')"
      ]
     },
     "execution_count": 12,
     "metadata": {},
     "output_type": "execute_result"
    },
    {
     "data": {
      "image/png": "[encoded data removed]",
      "text/plain": [
       "<Figure size 640x480 with 1 Axes>"
      ]
     },
     "metadata": {},
     "output_type": "display_data"
    }
   ],
   "source": [
    "plt.scatter(rcp.data[\"redshift\"], rcp.estimated.data.ancil[\"zmean\"])\n",
    "plt.xlabel(\"$z_{spec}$\")\n",
    "plt.ylabel(\"$z_{LePHARE}$\")"
   ]
  },
  {
   "cell_type": "code",
   "execution_count": 12,
   "metadata": {},
   "outputs": [
    {
     "name": "stdout",
     "output_type": "stream",
     "text": [
      "Dataset: ancil/CHI_BEST\n",
      "Dataset: ancil/CHI_QSO\n",
      "Dataset: ancil/CHI_STAR\n",
      "Dataset: ancil/MOD_STAR\n",
      "Dataset: ancil/ZQ_BEST\n",
      "Dataset: ancil/Z_BEST\n",
      "Dataset: ancil/zmean\n",
      "Dataset: ancil/zmode\n",
      "Dataset: data/yvals\n",
      "Dataset: meta/pdf_name\n",
      "Dataset: meta/pdf_version\n",
      "Dataset: meta/xvals\n"
     ]
    }
   ],
   "source": [
    "import h5py\n",
    "\n",
    "with h5py.File(\"output_test_Lephare_COSMOS.hdf5\", \"r\") as f:\n",
    "    def print_attrs(name, obj):\n",
    "        if isinstance(obj, h5py.Dataset):\n",
    "            print(f\"Dataset: {name}\")\n",
    "\n",
    "    f.visititems(print_attrs)"
   ]
  },
  {
   "cell_type": "code",
   "execution_count": null,
   "metadata": {},
   "outputs": [],
   "source": [
    "import pandas as pd\n",
    "\n",
    "df = pd.read_hdf(\"output_test_Lephare_COSMOS.hdf5\", \"data/yvals\")\n",
    "\n",
    "print(df)"
   ]
  },
  {
   "cell_type": "code",
   "execution_count": null,
   "metadata": {},
   "outputs": [],
   "source": []
  }
 ],
 "metadata": {
  "kernelspec": {
   "display_name": "rcal-947",
   "language": "python",
   "name": "python3"
  },
  "language_info": {
   "codemirror_mode": {
    "name": "ipython",
    "version": 3
   },
   "file_extension": ".py",
   "mimetype": "text/x-python",
   "name": "python",
   "nbconvert_exporter": "python",
   "pygments_lexer": "ipython3",
   "version": "3.12.2"
  }
 },
 "nbformat": 4,
 "nbformat_minor": 2
}
