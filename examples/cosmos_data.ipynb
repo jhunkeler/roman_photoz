{
 "cells": [
  {
   "cell_type": "markdown",
   "metadata": {},
   "source": [
    "From https://github.com/LSSTDESC/rail_lephare/blob/main/examples/cosmos_demo.ipynb"
   ]
  },
  {
   "cell_type": "code",
   "execution_count": 1,
   "metadata": {},
   "outputs": [
    {
     "name": "stdout",
     "output_type": "stream",
     "text": [
      "User defined LEPHAREDIR is set. Code runs depend on all required\n",
      "auxiliary data being present at /Users/mteodoro/LEPHARE.\n",
      "User defined LEPHAREWORK is set. All intermediate files will be written to:\n",
      " /Users/mteodoro/LEPHARE/WORK\n"
     ]
    }
   ],
   "source": [
    "from matplotlib import pyplot as plt\n",
    "from roman_photoz import RomanCatalogProcess\n",
    "from roman_photoz.default_config_file import default_roman_config\n",
    "import os"
   ]
  },
  {
   "cell_type": "code",
   "execution_count": 2,
   "metadata": {},
   "outputs": [
    {
     "data": {
      "text/plain": [
       "{'ADAPT_BAND': '5',\n",
       " 'ADAPT_CONTEXT': '-1',\n",
       " 'ADAPT_LIM': '1.5,23.0',\n",
       " 'ADAPT_MODBIN': '1,1000',\n",
       " 'ADAPT_ZBIN': '0.01,6',\n",
       " 'ADDITIONAL_MAG': 'none',\n",
       " 'ADD_DUSTEM': 'NO',\n",
       " 'ADD_EMLINES': '0,10000',\n",
       " 'AGE_RANGE': '0.,15.e9',\n",
       " 'AUTO_ADAPT': 'NO',\n",
       " 'CAT_FMT': 'MEME',\n",
       " 'CAT_IN': 'roman_simulated_catalog.in',\n",
       " 'CAT_LINES': '0,1000000000',\n",
       " 'CAT_MAG': 'AB',\n",
       " 'CAT_OUT': 'roman_simulated_catalog.out',\n",
       " 'CAT_TYPE': 'LONG',\n",
       " 'CHI2_OUT': 'NO',\n",
       " 'COSMOLOGY': '70,0.3,0.7',\n",
       " 'DZ_WIN': '1.0',\n",
       " 'EBV_RANGE': '0,9',\n",
       " 'EB_V': '0.,0.05,0.1,0.15,0.2,0.25,0.3,0.35,0.4,0.5',\n",
       " 'EM_DISPERSION': '0.5,0.75,1.,1.5,2.',\n",
       " 'EM_LINES': 'EMP_UV',\n",
       " 'ERR_FACTOR': '1.5',\n",
       " 'ERR_SCALE': '0.02,0.02,0.02,0.02,0.02,0.02,0.02,0.05,0.05,0.05,0.05,0.02,0.02,0.02,0.02,0.02,0.02,0.02,0.02,0.02,0.02,0.02,0.02,0.05,0.05,0.05,0.05,0.1,0.2,0.3',\n",
       " 'EXTERNALZ_FILE': 'NONE',\n",
       " 'EXTINC_LAW': 'SMC_prevot.dat,SB_calzetti.dat,SB_calzetti_bump1.dat,SB_calzetti_bump2.dat',\n",
       " 'FILTER_CALIB': '0,0,0,0,0,0,0,0',\n",
       " 'FILTER_FILE': 'filter_roman',\n",
       " 'FILTER_LIST': 'roman/roman_F062.pb,roman/roman_F087.pb,roman/roman_F106.pb,roman/roman_F129.pb,roman/roman_F146.pb,roman/roman_F158.pb,roman/roman_F184.pb,roman/roman_F213.pb',\n",
       " 'FILTER_REP': '/Users/mteodoro/LEPHARE/filt',\n",
       " 'FIR_CONT': '-1',\n",
       " 'FIR_FREESCALE': 'YES',\n",
       " 'FIR_LIB': 'NONE',\n",
       " 'FIR_LMIN': '7.0',\n",
       " 'FIR_SCALE': '-1',\n",
       " 'FIR_SUBSTELLAR': 'NO',\n",
       " 'FORB_CONTEXT': '-1',\n",
       " 'GAL_FSCALE': '1.',\n",
       " 'GAL_LIB': 'LIB_CE',\n",
       " 'GAL_LIB_IN': 'LIB_CE',\n",
       " 'GAL_LIB_OUT': 'ROMAN_SIMULATED_MAGS',\n",
       " 'GAL_SED': 'examples/COSMOS_MOD.list',\n",
       " 'GLB_CONTEXT': '0',\n",
       " 'INP_TYPE': 'F',\n",
       " 'LIB_ASCII': 'YES',\n",
       " 'LIMITS_MAPP_CUT': '90',\n",
       " 'LIMITS_MAPP_REF': '1',\n",
       " 'LIMITS_MAPP_SEL': '1',\n",
       " 'LIMITS_ZBIN': '0,99',\n",
       " 'MABS_CONTEXT': '33556478',\n",
       " 'MABS_FILT': '1,2,3,4',\n",
       " 'MABS_METHOD': '1',\n",
       " 'MABS_REF': '11',\n",
       " 'MABS_ZBIN': '0,0.5,2,4,6',\n",
       " 'MAGTYPE': 'AB',\n",
       " 'MAG_ABS': '-24,-5',\n",
       " 'MAG_ABS_QSO': '-30,-10',\n",
       " 'MAG_REF': '3',\n",
       " 'MIN_THRES': '0.02',\n",
       " 'MOD_EXTINC': '0,0',\n",
       " 'PARA_OUT': '/Users/mteodoro/LEPHARE/examples/output.para',\n",
       " 'PDZ_OUT': 'test',\n",
       " 'PDZ_TYPE': 'BAY_ZG',\n",
       " 'QSO_FSCALE': '1.',\n",
       " 'QSO_LIB': 'LIB_QSO',\n",
       " 'QSO_LIB_IN': 'LIB_QSO',\n",
       " 'QSO_LIB_OUT': 'QSO_COSMOS',\n",
       " 'QSO_SED': 'sed/QSO/SALVATO09/AGN_MOD.list',\n",
       " 'RF_COLORS': '32,4,4,13',\n",
       " 'RM_DISCREPANT_BD': '500',\n",
       " 'SPEC_OUT': 'NO',\n",
       " 'STAR_FSCALE': '3.432E-09',\n",
       " 'STAR_LIB': 'LIB_STAR',\n",
       " 'STAR_LIB_IN': 'LIB_STAR',\n",
       " 'STAR_LIB_OUT': 'STAR_COSMOS',\n",
       " 'STAR_SED': 'sed/STAR/STAR_MOD_ALL.list',\n",
       " 'TRANS_TYPE': '1',\n",
       " 'VERBOSE': 'NO',\n",
       " 'ZFIX': 'NO',\n",
       " 'ZGRID_TYPE': '0',\n",
       " 'ZPHOTLIB': 'CE_COSMOS,STAR_COSMOS,QSO_COSMOS',\n",
       " 'Z_INTERP': 'YES',\n",
       " 'Z_METHOD': 'BEST',\n",
       " 'Z_RANGE': '0.,99.99',\n",
       " 'Z_STEP': '0.01,0.,7.'}"
      ]
     },
     "execution_count": 2,
     "metadata": {},
     "output_type": "execute_result"
    }
   ],
   "source": [
    "config_file = default_roman_config\n",
    "config_file"
   ]
  },
  {
   "cell_type": "code",
   "execution_count": 3,
   "metadata": {},
   "outputs": [
    {
     "data": {
      "text/plain": [
       "{'ADAPT_BAND': '5',\n",
       " 'ADAPT_CONTEXT': '-1',\n",
       " 'ADAPT_LIM': '1.5,23.0',\n",
       " 'ADAPT_MODBIN': '1,1000',\n",
       " 'ADAPT_ZBIN': '0.01,6',\n",
       " 'ADDITIONAL_MAG': 'none',\n",
       " 'ADD_DUSTEM': 'NO',\n",
       " 'ADD_EMLINES': '0,10000',\n",
       " 'AGE_RANGE': '0.,15.e9',\n",
       " 'AUTO_ADAPT': 'NO',\n",
       " 'CAT_FMT': 'MEME',\n",
       " 'CAT_IN': 'roman_simulated_catalog.in',\n",
       " 'CAT_LINES': '0,1000000000',\n",
       " 'CAT_MAG': 'AB',\n",
       " 'CAT_OUT': 'roman_simulated_catalog.out',\n",
       " 'CAT_TYPE': 'LONG',\n",
       " 'CHI2_OUT': 'NO',\n",
       " 'COSMOLOGY': '70,0.3,0.7',\n",
       " 'DZ_WIN': '1.0',\n",
       " 'EBV_RANGE': '0,9',\n",
       " 'EB_V': '0.,0.05,0.1,0.15,0.2,0.25,0.3,0.35,0.4,0.5',\n",
       " 'EM_DISPERSION': '0.5,1.,1.5',\n",
       " 'EM_LINES': 'EMP_UV',\n",
       " 'ERR_FACTOR': '1.5',\n",
       " 'ERR_SCALE': '0.02,0.02,0.02,0.02,0.02,0.02,0.02,0.05,0.05,0.05,0.05,0.02,0.02,0.02,0.02,0.02,0.02,0.02,0.02,0.02,0.02,0.02,0.02,0.05,0.05,0.05,0.05,0.1,0.2,0.3',\n",
       " 'EXTERNALZ_FILE': 'NONE',\n",
       " 'EXTINC_LAW': 'SMC_prevot.dat,SB_calzetti.dat,SB_calzetti_bump1.dat,SB_calzetti_bump2.dat',\n",
       " 'FILTER_CALIB': '0,0,0,0,0,0,0,0',\n",
       " 'FILTER_FILE': 'filter_roman',\n",
       " 'FILTER_LIST': 'roman/roman_F062.pb,roman/roman_F087.pb,roman/roman_F106.pb,roman/roman_F129.pb,roman/roman_F146.pb,roman/roman_F158.pb,roman/roman_F184.pb,roman/roman_F213.pb',\n",
       " 'FILTER_REP': '/Users/mteodoro/LEPHARE/filt',\n",
       " 'FIR_CONT': '-1',\n",
       " 'FIR_FREESCALE': 'YES',\n",
       " 'FIR_LIB': 'NONE',\n",
       " 'FIR_LMIN': '7.0',\n",
       " 'FIR_SCALE': '-1',\n",
       " 'FIR_SUBSTELLAR': 'NO',\n",
       " 'FORB_CONTEXT': '-1',\n",
       " 'GAL_FSCALE': '1.',\n",
       " 'GAL_LIB': 'LIB_CE',\n",
       " 'GAL_LIB_IN': 'LIB_CE',\n",
       " 'GAL_LIB_OUT': 'ROMAN_SIMULATED_MAGS',\n",
       " 'GAL_SED': 'examples/COSMOS_MOD.list',\n",
       " 'GLB_CONTEXT': '0',\n",
       " 'INP_TYPE': 'F',\n",
       " 'LIB_ASCII': 'YES',\n",
       " 'LIMITS_MAPP_CUT': '90',\n",
       " 'LIMITS_MAPP_REF': '1',\n",
       " 'LIMITS_MAPP_SEL': '1',\n",
       " 'LIMITS_ZBIN': '0,99',\n",
       " 'MABS_CONTEXT': '33556478',\n",
       " 'MABS_FILT': '1,2,3,4',\n",
       " 'MABS_METHOD': '1',\n",
       " 'MABS_REF': '11',\n",
       " 'MABS_ZBIN': '0,0.5,2,4,6',\n",
       " 'MAGTYPE': 'AB',\n",
       " 'MAG_ABS': '-24,-5',\n",
       " 'MAG_ABS_QSO': '-30,-10',\n",
       " 'MAG_REF': '3',\n",
       " 'MIN_THRES': '0.02',\n",
       " 'MOD_EXTINC': '18,26,26,33,26,33,26,33',\n",
       " 'PARA_OUT': '/Users/mteodoro/LEPHARE/examples/output.para',\n",
       " 'PDZ_OUT': 'test',\n",
       " 'PDZ_TYPE': 'BAY_ZG',\n",
       " 'QSO_FSCALE': '1.',\n",
       " 'QSO_LIB': 'LIB_QSO',\n",
       " 'QSO_LIB_IN': 'LIB_QSO',\n",
       " 'QSO_LIB_OUT': 'QSO_COSMOS',\n",
       " 'QSO_SED': 'sed/QSO/SALVATO09/AGN_MOD.list',\n",
       " 'RF_COLORS': '32,4,4,13',\n",
       " 'RM_DISCREPANT_BD': '500',\n",
       " 'SPEC_OUT': 'NO',\n",
       " 'STAR_FSCALE': '3.432E-09',\n",
       " 'STAR_LIB': 'LIB_STAR',\n",
       " 'STAR_LIB_IN': 'LIB_STAR',\n",
       " 'STAR_LIB_OUT': 'STAR_COSMOS',\n",
       " 'STAR_SED': 'sed/STAR/STAR_MOD_ALL.list',\n",
       " 'TRANS_TYPE': '1',\n",
       " 'VERBOSE': 'NO',\n",
       " 'ZFIX': 'NO',\n",
       " 'ZGRID_TYPE': '0',\n",
       " 'ZPHOTLIB': 'CE_COSMOS,STAR_COSMOS,QSO_COSMOS',\n",
       " 'Z_INTERP': 'YES',\n",
       " 'Z_METHOD': 'BEST',\n",
       " 'Z_RANGE': '0.,99.99',\n",
       " 'Z_STEP': '.1,0.,7.'}"
      ]
     },
     "execution_count": 3,
     "metadata": {},
     "output_type": "execute_result"
    }
   ],
   "source": [
    "config_file[\"Z_STEP\"] = \".1,0.,7.\"\n",
    "config_file[\"MOD_EXTINC\"] = \"18,26,26,33,26,33,26,33\"\n",
    "config_file[\"EXTINC_LAW\"] = (\"SMC_prevot.dat,SB_calzetti.dat,SB_calzetti_bump1.dat,SB_calzetti_bump2.dat\")\n",
    "config_file[\"EM_LINES\"] = \"EMP_UV\"\n",
    "config_file[\"EM_DISPERSION\"] = \"0.5,1.,1.5\"\n",
    "\n",
    "config_file"
   ]
  },
  {
   "cell_type": "code",
   "execution_count": 4,
   "metadata": {},
   "outputs": [],
   "source": [
    "rcp = RomanCatalogProcess(config_filename=config_file)"
   ]
  },
  {
   "cell_type": "code",
   "execution_count": null,
   "metadata": {},
   "outputs": [
    {
     "name": "stdout",
     "output_type": "stream",
     "text": [
      "8\n"
     ]
    },
    {
     "ename": "IndexError",
     "evalue": "list index out of range",
     "output_type": "error",
     "traceback": [
      "\u001b[0;31m---------------------------------------------------------------------------\u001b[0m",
      "\u001b[0;31mIndexError\u001b[0m                                Traceback (most recent call last)",
      "Cell \u001b[0;32mIn[5], line 1\u001b[0m\n\u001b[0;32m----> 1\u001b[0m \u001b[43mrcp\u001b[49m\u001b[38;5;241;43m.\u001b[39;49m\u001b[43mprocess\u001b[49m\u001b[43m(\u001b[49m\u001b[43minput_filename\u001b[49m\u001b[38;5;241;43m=\u001b[39;49m\u001b[38;5;124;43m\"\u001b[39;49m\u001b[38;5;124;43mroman_simulated_catalog.in\u001b[39;49m\u001b[38;5;124;43m\"\u001b[39;49m\u001b[43m,\u001b[49m\u001b[43m \u001b[49m\u001b[43minput_path\u001b[49m\u001b[38;5;241;43m=\u001b[39;49m\u001b[43mos\u001b[49m\u001b[38;5;241;43m.\u001b[39;49m\u001b[43mgetcwd\u001b[49m\u001b[43m(\u001b[49m\u001b[43m)\u001b[49m\u001b[43m)\u001b[49m\n",
      "File \u001b[0;32m~/GIT/roman_photoz/.worktrees/RCAL-947-photometric-redshifts-in-romancal/roman_photoz/roman_catalog_process.py:117\u001b[0m, in \u001b[0;36mRomanCatalogProcess.process\u001b[0;34m(self, input_filename, input_path)\u001b[0m\n\u001b[1;32m    116\u001b[0m \u001b[38;5;28;01mdef\u001b[39;00m \u001b[38;5;21mprocess\u001b[39m(\u001b[38;5;28mself\u001b[39m, input_filename\u001b[38;5;241m=\u001b[39m\u001b[38;5;124m\"\u001b[39m\u001b[38;5;124m\"\u001b[39m, input_path\u001b[38;5;241m=\u001b[39m\u001b[38;5;124m\"\u001b[39m\u001b[38;5;124m\"\u001b[39m):\n\u001b[0;32m--> 117\u001b[0m     \u001b[38;5;28;43mself\u001b[39;49m\u001b[38;5;241;43m.\u001b[39;49m\u001b[43mget_data\u001b[49m\u001b[43m(\u001b[49m\u001b[43minput_filename\u001b[49m\u001b[38;5;241;43m=\u001b[39;49m\u001b[43minput_filename\u001b[49m\u001b[43m,\u001b[49m\u001b[43m \u001b[49m\u001b[43minput_path\u001b[49m\u001b[38;5;241;43m=\u001b[39;49m\u001b[43minput_path\u001b[49m\u001b[43m)\u001b[49m\n\u001b[1;32m    118\u001b[0m     \u001b[38;5;28mself\u001b[39m\u001b[38;5;241m.\u001b[39mcreate_informer_stage()\n\u001b[1;32m    119\u001b[0m     \u001b[38;5;28mself\u001b[39m\u001b[38;5;241m.\u001b[39mcreate_estimator_stage()\n",
      "File \u001b[0;32m~/GIT/roman_photoz/.worktrees/RCAL-947-photometric-redshifts-in-romancal/roman_photoz/roman_catalog_process.py:68\u001b[0m, in \u001b[0;36mRomanCatalogProcess.get_data\u001b[0;34m(self, input_filename, input_path)\u001b[0m\n\u001b[1;32m     65\u001b[0m \u001b[38;5;66;03m# loop over the filters we want to keep to get\u001b[39;00m\n\u001b[1;32m     66\u001b[0m \u001b[38;5;66;03m# the number of the filter, n, and the name, b\u001b[39;00m\n\u001b[1;32m     67\u001b[0m \u001b[38;5;28;01mfor\u001b[39;00m n, b \u001b[38;5;129;01min\u001b[39;00m \u001b[38;5;28menumerate\u001b[39m(bands):\n\u001b[0;32m---> 68\u001b[0m     flux \u001b[38;5;241m=\u001b[39m cat_data[\u001b[43mcat_data\u001b[49m\u001b[38;5;241;43m.\u001b[39;49m\u001b[43mcolnames\u001b[49m\u001b[43m[\u001b[49m\u001b[38;5;241;43m1\u001b[39;49m\u001b[43m \u001b[49m\u001b[38;5;241;43m+\u001b[39;49m\u001b[43m \u001b[49m\u001b[38;5;241;43m2\u001b[39;49m\u001b[43m \u001b[49m\u001b[38;5;241;43m*\u001b[39;49m\u001b[43m \u001b[49m\u001b[43mn\u001b[49m\u001b[43m]\u001b[49m]\n\u001b[1;32m     69\u001b[0m     flux_err \u001b[38;5;241m=\u001b[39m cat_data[cat_data\u001b[38;5;241m.\u001b[39mcolnames[\u001b[38;5;241m2\u001b[39m \u001b[38;5;241m+\u001b[39m \u001b[38;5;241m2\u001b[39m \u001b[38;5;241m*\u001b[39m n]]\n\u001b[1;32m     70\u001b[0m     \u001b[38;5;28mself\u001b[39m\u001b[38;5;241m.\u001b[39mdata[\u001b[38;5;124mf\u001b[39m\u001b[38;5;124m\"\u001b[39m\u001b[38;5;124mflux_\u001b[39m\u001b[38;5;132;01m{\u001b[39;00mb\u001b[38;5;132;01m}\u001b[39;00m\u001b[38;5;124m\"\u001b[39m] \u001b[38;5;241m=\u001b[39m flux\n",
      "\u001b[0;31mIndexError\u001b[0m: list index out of range"
     ]
    }
   ],
   "source": [
    "rcp.process()"
   ]
  },
  {
   "cell_type": "code",
   "execution_count": null,
   "metadata": {},
   "outputs": [],
   "source": [
    "rcp.estimated.data[13].ancil"
   ]
  },
  {
   "cell_type": "code",
   "execution_count": null,
   "metadata": {},
   "outputs": [],
   "source": [
    "import numpy as np"
   ]
  },
  {
   "cell_type": "code",
   "execution_count": null,
   "metadata": {},
   "outputs": [],
   "source": [
    "indx = 13\n",
    "zmin = rcp.estimated.data[indx].ancil[\"zmean\"] * 0.25\n",
    "zmax = rcp.estimated.data[indx].ancil[\"zmean\"] * 1.75\n",
    "zgrid = np.linspace(zmin, zmax, 1000)\n",
    "plt.plot(\n",
    "    zgrid, np.squeeze(rcp.estimated.data[indx].pdf(zgrid)), label=\"Estimated PDF\"\n",
    ")\n",
    "plt.axvline(x=rcp.data[\"redshift\"][indx], color=\"r\", label=\"True redshift\")\n",
    "plt.legend()\n",
    "plt.xlabel(\"z\")\n",
    "plt.show()"
   ]
  },
  {
   "cell_type": "code",
   "execution_count": null,
   "metadata": {},
   "outputs": [],
   "source": [
    "estimate_diff_from_truth = np.abs(\n",
    "    rcp.estimated.data.ancil[\"zmode\"] - rcp.data[\"redshift\"]\n",
    ")\n",
    "\n",
    "plt.figure()\n",
    "plt.hist(estimate_diff_from_truth, 100)\n",
    "plt.xlabel(\"abs(z_estimated - z_true)\")\n",
    "plt.show()"
   ]
  },
  {
   "cell_type": "code",
   "execution_count": null,
   "metadata": {},
   "outputs": [],
   "source": [
    "plt.scatter(rcp.data[\"redshift\"], rcp.estimated.data.ancil[\"Z_BEST\"])\n",
    "plt.xlabel(\"$z_{spec}$\")\n",
    "plt.ylabel(\"$z_{LePHARE}$\")"
   ]
  },
  {
   "cell_type": "code",
   "execution_count": null,
   "metadata": {},
   "outputs": [],
   "source": [
    "plt.scatter(rcp.data[\"redshift\"], rcp.estimated.data.ancil[\"zmean\"])\n",
    "plt.xlabel(\"$z_{spec}$\")\n",
    "plt.ylabel(\"$z_{LePHARE}$\")"
   ]
  },
  {
   "cell_type": "code",
   "execution_count": null,
   "metadata": {},
   "outputs": [],
   "source": [
    "import h5py\n",
    "\n",
    "with h5py.File(\"output_test_Lephare_COSMOS.hdf5\", \"r\") as f:\n",
    "    def print_attrs(name, obj):\n",
    "        if isinstance(obj, h5py.Dataset):\n",
    "            print(f\"Dataset: {name}\")\n",
    "\n",
    "    f.visititems(print_attrs)"
   ]
  },
  {
   "cell_type": "code",
   "execution_count": null,
   "metadata": {},
   "outputs": [],
   "source": [
    "import pandas as pd\n",
    "\n",
    "df = pd.read_hdf(\"output_test_Lephare_COSMOS.hdf5\", \"data/yvals\")\n",
    "\n",
    "print(df)"
   ]
  },
  {
   "cell_type": "code",
   "execution_count": null,
   "metadata": {},
   "outputs": [],
   "source": []
  }
 ],
 "metadata": {
  "kernelspec": {
   "display_name": "rcal-947",
   "language": "python",
   "name": "python3"
  },
  "language_info": {
   "codemirror_mode": {
    "name": "ipython",
    "version": 3
   },
   "file_extension": ".py",
   "mimetype": "text/x-python",
   "name": "python",
   "nbconvert_exporter": "python",
   "pygments_lexer": "ipython3",
   "version": "3.12.2"
  }
 },
 "nbformat": 4,
 "nbformat_minor": 2
}
